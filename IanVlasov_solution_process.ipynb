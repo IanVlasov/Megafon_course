{
 "cells": [
  {
   "cell_type": "code",
   "execution_count": 72,
   "metadata": {},
   "outputs": [],
   "source": [
    "import warnings\n",
    "warnings.filterwarnings(\"ignore\")\n",
    "\n",
    "import pandas as pd\n",
    "import numpy as np\n",
    "import dask.dataframe as dd\n",
    "import itertools\n",
    "import seaborn as sns\n",
    "import matplotlib.pyplot as plt\n",
    "plt.style.use('ggplot')\n",
    "%matplotlib inline\n",
    "\n",
    "from datetime import datetime\n",
    "from sklearn.preprocessing import LabelEncoder\n",
    "from sklearn.pipeline import FeatureUnion, make_pipeline\n",
    "from sklearn.preprocessing import StandardScaler, OneHotEncoder\n",
    "from sklearn.pipeline import Pipeline\n",
    "from sklearn.model_selection import KFold, StratifiedKFold\n",
    "from sklearn.model_selection import cross_validate\n",
    "from sklearn.model_selection import train_test_split\n",
    "from sklearn.linear_model import LogisticRegression\n",
    "from sklearn.naive_bayes import GaussianNB\n",
    "from sklearn.metrics import precision_recall_curve, roc_curve, auc, f1_score, accuracy_score, precision_score, recall_score\n",
    "from sklearn.metrics import confusion_matrix\n",
    "from sklearn.metrics import classification_report\n",
    "from sklearn.base import BaseEstimator, TransformerMixin\n",
    "from sklearn.model_selection import GridSearchCV, cross_val_score\n",
    "from sklearn.tree import DecisionTreeClassifier\n",
    "from sklearn.neighbors import KNeighborsClassifier\n",
    "from sklearn.discriminant_analysis import LinearDiscriminantAnalysis\n",
    "from sklearn.naive_bayes import GaussianNB\n",
    "from sklearn.svm import SVC\n",
    "from sklearn.feature_selection import SelectFromModel\n",
    "from sklearn.ensemble import RandomForestClassifier\n",
    "\n",
    "from imblearn.under_sampling import RandomUnderSampler\n",
    "from imblearn.over_sampling import SMOTE\n",
    "from imblearn.combine import SMOTEENN, SMOTETomek\n",
    "\n",
    "import xgboost\n",
    "from xgboost import XGBClassifier\n",
    "from lightgbm import LGBMClassifier"
   ]
  },
  {
   "cell_type": "markdown",
   "metadata": {},
   "source": [
    "## 1. Baseline"
   ]
  },
  {
   "cell_type": "code",
   "execution_count": 2,
   "metadata": {},
   "outputs": [],
   "source": [
    "def train_test_prep(df, train=True):\n",
    "    \"\"\"\n",
    "    Train and test sets preparation function:\n",
    "        - types convertion to save memory\n",
    "        - drop unnecessary column\n",
    "        - date format\n",
    "    \"\"\"\n",
    "    \n",
    "    df = df.copy()\n",
    "    df = df.astype({\n",
    "        'id': 'uint32',\n",
    "        'vas_id': 'uint8'\n",
    "    })\n",
    "    \n",
    "    if train:\n",
    "        df = df.astype({'target': 'uint8'})\n",
    "        \n",
    "    df = df.drop(columns=['Unnamed: 0'])\n",
    "#     df = format_date(df, 'buy_time')\n",
    "    \n",
    "    return df"
   ]
  },
  {
   "cell_type": "code",
   "execution_count": 3,
   "metadata": {},
   "outputs": [],
   "source": [
    "def features_prep(features_dask_df, ids_train_list, ids_test_list):\n",
    "    \"\"\"\n",
    "    Features dataset cut function:\n",
    "        - leave only actual ids which are contained in train and test datasets\n",
    "        - drop Unnamed column\n",
    "        - drop constant columns\n",
    "        - convert types\n",
    "        - date format\n",
    "        - reset index\n",
    "        - return pandas df instead of dask df\n",
    "    \"\"\"\n",
    "    \n",
    "    ids_list = np.unique(np.append(ids_train_list, ids_test_list))\n",
    "    features_pd_df = features_dask_df.loc[features_dask_df['id'].isin(ids_list)].compute()\n",
    "    features_pd_df = features_pd_df.drop(columns=['Unnamed: 0'], axis=1)\n",
    "#     features_pd_df = features_pd_df[[col for col \n",
    "#                                      in list(features_pd_df) \n",
    "#                                      if len(features_pd_df[col].unique()) > 1]]\n",
    "    \n",
    "    features_pd_df = features_pd_df.astype({'id': 'uint32'})\n",
    "#     col_should_be_int = features_pd_df.select_dtypes(include=['float']).applymap(float.is_integer).all()\n",
    "#     float_to_int_cols = col_should_be_int[col_should_be_int].index\n",
    "#     features_pd_df.loc[:, float_to_int_cols] = features_pd_df.loc[:, float_to_int_cols].astype('int32')\n",
    "    \n",
    "#     constant_cols = find_not_representative_cols(features_pd_df, 0.999)\n",
    "#     features_pd_df.drop(columns=constant_cols, inplace=True)\n",
    "    \n",
    "#     features_pd_df = format_date(features_pd_df, 'buy_time')\n",
    "#     bin_feat = find_categorical_features(features_pd_df, 3)\n",
    "#     cat_feat = find_categorical_features(features_pd_df, 30, remove_bin_features=True)\n",
    "#     features_pd_df = cat_feat_label_encode(features_pd_df, list(bin_feat.keys()))\n",
    "#     features_pd_df = pd.get_dummies(features_pd_df, columns=list(cat_feat.keys()), prefix=list(cat_feat.keys()))\n",
    "    \n",
    "    features_pd_df.reset_index(drop=True, inplace=True)\n",
    "    \n",
    "    return features_pd_df"
   ]
  },
  {
   "cell_type": "code",
   "execution_count": 4,
   "metadata": {},
   "outputs": [],
   "source": [
    "def prepare_df_with_features(df, features, train=True):\n",
    "    \"\"\"\n",
    "    function to combine train/test datasets with features\n",
    "    working with following algorithm:\n",
    "    - create an empty \"ready_features\" list which will be filled with values from features df\n",
    "    according to user id and closest profile in time (indexes are the same like in \"data\" df)\n",
    "    - convert \"ready_features\" list into dataframe\n",
    "    - merge 2 dataframes by index\n",
    "    - if train parameter is true move 'target' column to the end\n",
    "    \"\"\"\n",
    "    ready_features = []\n",
    "    \n",
    "    for idx in df.index:\n",
    "        processing_series = features.loc[(features['id'] == df.at[idx, 'id'])]\n",
    "        if processing_series.shape[0] == 1:\n",
    "            ready_features.append(processing_series.values[0])\n",
    "        else:\n",
    "            check_diff = np.abs(\n",
    "                processing_series['buy_time'] - df.at[idx, 'buy_time'])\n",
    "            nearest_series_id = check_diff[check_diff == np.min(check_diff)].index[0]\n",
    "            ready_features.append(processing_series.loc[nearest_series_id].values)\n",
    "                \n",
    "    \n",
    "    ready_features_df = pd.DataFrame(ready_features, columns=features.columns)\n",
    "    merged_df = pd.merge(df, ready_features_df.iloc[:, 3:], left_index=True, right_index=True)\n",
    "     \n",
    "    if train:\n",
    "        merged_df = merged_df[[col for col in merged_df.columns if col != 'target'] + ['target']]\n",
    "        \n",
    "    return merged_df"
   ]
  },
  {
   "cell_type": "markdown",
   "metadata": {},
   "source": [
    "### 1.1 Чтение и слияние датасетов"
   ]
  },
  {
   "cell_type": "code",
   "execution_count": 5,
   "metadata": {},
   "outputs": [],
   "source": [
    "# input\n",
    "TRAINSET_PATH = 'data_train.csv'\n",
    "TESTSET_PATH = 'data_test.csv'\n",
    "FEATURES_PATH = 'features-1.csv'\n",
    "\n",
    "# output\n",
    "TRAIN_DF_PREP_PATH = 'df_train_prep.csv'\n",
    "TEST_DF_PREP_PATH = 'df_test_prep.csv'\n",
    "FEATURES_DF_PREP_PATH = 'features_df_prep.csv'\n",
    "TRAIN_WITH_FEATURES_PATH = 'df_train_with_feat.csv'\n",
    "TEST_WITH_FEATURES_PATH = 'df_test_with_feat.csv'"
   ]
  },
  {
   "cell_type": "code",
   "execution_count": 6,
   "metadata": {},
   "outputs": [],
   "source": [
    "# df_train = pd.read_csv(TRAINSET_PATH)\n",
    "# df_test = pd.read_csv(TESTSET_PATH)\n",
    "# features_df = dd.read_csv(FEATURES_PATH, sep=\"\\t\")"
   ]
  },
  {
   "cell_type": "code",
   "execution_count": 7,
   "metadata": {},
   "outputs": [],
   "source": [
    "# df_train = train_test_prep(df_train)\n",
    "# df_test = train_test_prep(df_test, train=False)\n",
    "# df_features = features_prep(features_df, df_train['id'].values, df_test['id'].values)"
   ]
  },
  {
   "cell_type": "code",
   "execution_count": 8,
   "metadata": {},
   "outputs": [],
   "source": [
    "# df_train_feat = prepare_df_with_features(df_train, df_features, train=True)\n",
    "# df_test_feat = prepare_df_with_features(df_test, df_features, train=False)"
   ]
  },
  {
   "cell_type": "code",
   "execution_count": 9,
   "metadata": {},
   "outputs": [],
   "source": [
    "# df_train_feat.to_csv(TRAIN_WITH_FEATURES_PATH, index=False, encoding='utf-8')"
   ]
  },
  {
   "cell_type": "code",
   "execution_count": 10,
   "metadata": {},
   "outputs": [],
   "source": [
    "df_train_feat = pd.read_csv(TRAIN_WITH_FEATURES_PATH)"
   ]
  },
  {
   "cell_type": "code",
   "execution_count": 11,
   "metadata": {},
   "outputs": [],
   "source": [
    "# Разделим признаки и целевую переменную\n",
    "df_copy = df_train_feat.copy()\n",
    "\n",
    "X = df_copy.drop('target', axis=1)\n",
    "y = df_copy['target']"
   ]
  },
  {
   "cell_type": "code",
   "execution_count": 12,
   "metadata": {},
   "outputs": [
    {
     "name": "stdout",
     "output_type": "stream",
     "text": [
      "ID уникален?  True\n",
      "Есть ли дубли в строках? 0\n",
      "Сколько процентов признаков могут принимать null-значениями? 0%\n"
     ]
    }
   ],
   "source": [
    "print(\"ID уникален? \", X.index.is_unique)\n",
    "print(\"Есть ли дубли в строках?\", X.duplicated().sum())\n",
    "print(\"Сколько процентов признаков могут принимать null-значениями? %d%%\" % float((X.isnull().sum() > 0).sum()/X.shape[1]*100))"
   ]
  },
  {
   "cell_type": "code",
   "execution_count": 13,
   "metadata": {},
   "outputs": [],
   "source": [
    "# print(f'Размер тренировочного сета: {df_train.shape}')\n",
    "# print(f'Размер тестового сета: {df_test.shape}')"
   ]
  },
  {
   "cell_type": "code",
   "execution_count": 14,
   "metadata": {
    "scrolled": true
   },
   "outputs": [],
   "source": [
    "# unique_ids_train = len(df_train['id'].unique())\n",
    "# unique_ids_test = len(df_test['id'].unique())\n",
    "\n",
    "# print(f'Уникальных абонентов в тренировочном сете: {unique_ids_train}')\n",
    "# print(f'Уникальных абонентов в тестовом сете: {unique_ids_test}')"
   ]
  },
  {
   "cell_type": "code",
   "execution_count": 15,
   "metadata": {},
   "outputs": [
    {
     "name": "stdout",
     "output_type": "stream",
     "text": [
      "<class 'pandas.core.frame.DataFrame'>\n",
      "RangeIndex: 831653 entries, 0 to 831652\n",
      "Columns: 256 entries, id to target\n",
      "dtypes: float64(252), int64(4)\n",
      "memory usage: 1.6 GB\n"
     ]
    }
   ],
   "source": [
    "df_train_feat.info()"
   ]
  },
  {
   "cell_type": "code",
   "execution_count": 93,
   "metadata": {},
   "outputs": [
    {
     "data": {
      "text/html": [
       "<div>\n",
       "<style scoped>\n",
       "    .dataframe tbody tr th:only-of-type {\n",
       "        vertical-align: middle;\n",
       "    }\n",
       "\n",
       "    .dataframe tbody tr th {\n",
       "        vertical-align: top;\n",
       "    }\n",
       "\n",
       "    .dataframe thead th {\n",
       "        text-align: right;\n",
       "    }\n",
       "</style>\n",
       "<table border=\"1\" class=\"dataframe\">\n",
       "  <thead>\n",
       "    <tr style=\"text-align: right;\">\n",
       "      <th></th>\n",
       "      <th>id</th>\n",
       "      <th>vas_id</th>\n",
       "      <th>buy_time</th>\n",
       "      <th>1</th>\n",
       "      <th>2</th>\n",
       "      <th>3</th>\n",
       "      <th>4</th>\n",
       "      <th>5</th>\n",
       "      <th>6</th>\n",
       "      <th>7</th>\n",
       "      <th>...</th>\n",
       "      <th>244</th>\n",
       "      <th>245</th>\n",
       "      <th>246</th>\n",
       "      <th>247</th>\n",
       "      <th>248</th>\n",
       "      <th>249</th>\n",
       "      <th>250</th>\n",
       "      <th>251</th>\n",
       "      <th>252</th>\n",
       "      <th>target</th>\n",
       "    </tr>\n",
       "  </thead>\n",
       "  <tbody>\n",
       "    <tr>\n",
       "      <th>0</th>\n",
       "      <td>540968</td>\n",
       "      <td>8</td>\n",
       "      <td>1537131600</td>\n",
       "      <td>327.360888</td>\n",
       "      <td>-45.500786</td>\n",
       "      <td>274.753202</td>\n",
       "      <td>-50.918246</td>\n",
       "      <td>253.64821</td>\n",
       "      <td>49.15382</td>\n",
       "      <td>195.883903</td>\n",
       "      <td>...</td>\n",
       "      <td>-613.770792</td>\n",
       "      <td>-20.996269</td>\n",
       "      <td>-37.630448</td>\n",
       "      <td>-28.747724</td>\n",
       "      <td>4.167111</td>\n",
       "      <td>7.305572</td>\n",
       "      <td>-12.175933</td>\n",
       "      <td>21.54386</td>\n",
       "      <td>0.0</td>\n",
       "      <td>0</td>\n",
       "    </tr>\n",
       "    <tr>\n",
       "      <th>1</th>\n",
       "      <td>1454121</td>\n",
       "      <td>4</td>\n",
       "      <td>1531688400</td>\n",
       "      <td>238.430888</td>\n",
       "      <td>533.329214</td>\n",
       "      <td>274.803202</td>\n",
       "      <td>527.911754</td>\n",
       "      <td>253.69821</td>\n",
       "      <td>-16.08618</td>\n",
       "      <td>-65.076097</td>\n",
       "      <td>...</td>\n",
       "      <td>-613.770792</td>\n",
       "      <td>-25.996269</td>\n",
       "      <td>-19.630448</td>\n",
       "      <td>-278.747724</td>\n",
       "      <td>-24.832889</td>\n",
       "      <td>-0.694428</td>\n",
       "      <td>-11.175933</td>\n",
       "      <td>-0.45614</td>\n",
       "      <td>0.0</td>\n",
       "      <td>0</td>\n",
       "    </tr>\n",
       "    <tr>\n",
       "      <th>2</th>\n",
       "      <td>2458816</td>\n",
       "      <td>1</td>\n",
       "      <td>1534107600</td>\n",
       "      <td>-95.469112</td>\n",
       "      <td>-106.080786</td>\n",
       "      <td>-139.596798</td>\n",
       "      <td>-111.498246</td>\n",
       "      <td>-142.90179</td>\n",
       "      <td>-16.08618</td>\n",
       "      <td>-65.076097</td>\n",
       "      <td>...</td>\n",
       "      <td>-613.770792</td>\n",
       "      <td>-25.996269</td>\n",
       "      <td>-37.630448</td>\n",
       "      <td>-304.747724</td>\n",
       "      <td>-25.832889</td>\n",
       "      <td>-0.694428</td>\n",
       "      <td>-12.175933</td>\n",
       "      <td>-0.45614</td>\n",
       "      <td>0.0</td>\n",
       "      <td>0</td>\n",
       "    </tr>\n",
       "    <tr>\n",
       "      <th>3</th>\n",
       "      <td>3535012</td>\n",
       "      <td>5</td>\n",
       "      <td>1535922000</td>\n",
       "      <td>12.970888</td>\n",
       "      <td>54.079214</td>\n",
       "      <td>-9.116798</td>\n",
       "      <td>48.661754</td>\n",
       "      <td>-30.22179</td>\n",
       "      <td>60.17382</td>\n",
       "      <td>87.453903</td>\n",
       "      <td>...</td>\n",
       "      <td>-613.770792</td>\n",
       "      <td>-25.996269</td>\n",
       "      <td>-18.630448</td>\n",
       "      <td>-133.747724</td>\n",
       "      <td>-14.832889</td>\n",
       "      <td>-0.694428</td>\n",
       "      <td>-1.175933</td>\n",
       "      <td>-0.45614</td>\n",
       "      <td>0.0</td>\n",
       "      <td>0</td>\n",
       "    </tr>\n",
       "    <tr>\n",
       "      <th>4</th>\n",
       "      <td>1693214</td>\n",
       "      <td>1</td>\n",
       "      <td>1535922000</td>\n",
       "      <td>295.240888</td>\n",
       "      <td>64.679214</td>\n",
       "      <td>344.283202</td>\n",
       "      <td>59.261754</td>\n",
       "      <td>323.17821</td>\n",
       "      <td>-16.08618</td>\n",
       "      <td>-65.076097</td>\n",
       "      <td>...</td>\n",
       "      <td>-612.770792</td>\n",
       "      <td>-22.996269</td>\n",
       "      <td>-32.630448</td>\n",
       "      <td>-127.747724</td>\n",
       "      <td>-4.832889</td>\n",
       "      <td>-0.694428</td>\n",
       "      <td>-12.175933</td>\n",
       "      <td>-0.45614</td>\n",
       "      <td>0.0</td>\n",
       "      <td>0</td>\n",
       "    </tr>\n",
       "  </tbody>\n",
       "</table>\n",
       "<p>5 rows × 256 columns</p>\n",
       "</div>"
      ],
      "text/plain": [
       "        id  vas_id    buy_time           1           2           3  \\\n",
       "0   540968       8  1537131600  327.360888  -45.500786  274.753202   \n",
       "1  1454121       4  1531688400  238.430888  533.329214  274.803202   \n",
       "2  2458816       1  1534107600  -95.469112 -106.080786 -139.596798   \n",
       "3  3535012       5  1535922000   12.970888   54.079214   -9.116798   \n",
       "4  1693214       1  1535922000  295.240888   64.679214  344.283202   \n",
       "\n",
       "            4          5         6           7  ...         244        245  \\\n",
       "0  -50.918246  253.64821  49.15382  195.883903  ... -613.770792 -20.996269   \n",
       "1  527.911754  253.69821 -16.08618  -65.076097  ... -613.770792 -25.996269   \n",
       "2 -111.498246 -142.90179 -16.08618  -65.076097  ... -613.770792 -25.996269   \n",
       "3   48.661754  -30.22179  60.17382   87.453903  ... -613.770792 -25.996269   \n",
       "4   59.261754  323.17821 -16.08618  -65.076097  ... -612.770792 -22.996269   \n",
       "\n",
       "         246         247        248       249        250       251  252  \\\n",
       "0 -37.630448  -28.747724   4.167111  7.305572 -12.175933  21.54386  0.0   \n",
       "1 -19.630448 -278.747724 -24.832889 -0.694428 -11.175933  -0.45614  0.0   \n",
       "2 -37.630448 -304.747724 -25.832889 -0.694428 -12.175933  -0.45614  0.0   \n",
       "3 -18.630448 -133.747724 -14.832889 -0.694428  -1.175933  -0.45614  0.0   \n",
       "4 -32.630448 -127.747724  -4.832889 -0.694428 -12.175933  -0.45614  0.0   \n",
       "\n",
       "   target  \n",
       "0       0  \n",
       "1       0  \n",
       "2       0  \n",
       "3       0  \n",
       "4       0  \n",
       "\n",
       "[5 rows x 256 columns]"
      ]
     },
     "execution_count": 93,
     "metadata": {},
     "output_type": "execute_result"
    }
   ],
   "source": [
    "df_train_feat.head()"
   ]
  },
  {
   "cell_type": "markdown",
   "metadata": {},
   "source": [
    "### 1.2 Разделение на train/test"
   ]
  },
  {
   "cell_type": "code",
   "execution_count": 16,
   "metadata": {},
   "outputs": [
    {
     "name": "stdout",
     "output_type": "stream",
     "text": [
      "0    0.927631\n",
      "1    0.072369\n",
      "Name: target, dtype: float64\n",
      "0    771467\n",
      "1     60186\n",
      "Name: target, dtype: int64\n"
     ]
    },
    {
     "data": {
      "image/png": "[encoded data removed]",
      "text/plain": [
       "<Figure size 432x432 with 1 Axes>"
      ]
     },
     "metadata": {
      "needs_background": "light"
     },
     "output_type": "display_data"
    }
   ],
   "source": [
    "plt.rcParams['figure.figsize'] = (6, 6)\n",
    "sns.countplot(x='target', data=df_train_feat)\n",
    "print(y.value_counts()/y.shape)\n",
    "print(y.value_counts())"
   ]
  },
  {
   "cell_type": "markdown",
   "metadata": {},
   "source": [
    "Датасет сильно разбалансирован, однако для baseline модели не будем вносить никакие изменения"
   ]
  },
  {
   "cell_type": "code",
   "execution_count": 12,
   "metadata": {},
   "outputs": [
    {
     "name": "stdout",
     "output_type": "stream",
     "text": [
      "Train\n",
      "0    0.927521\n",
      "1    0.072479\n",
      "Name: target, dtype: float64\n",
      "\n",
      "Test\n",
      "0    0.927961\n",
      "1    0.072039\n",
      "Name: target, dtype: float64\n"
     ]
    }
   ],
   "source": [
    "# Зафиксируем значение random_state для воспроизводимости результатов.\n",
    "RANDOM_STATE = 888\n",
    "\n",
    "train_idx, test_idx = train_test_split(X.index, test_size=0.25, random_state=RANDOM_STATE)\n",
    "\n",
    "y_train, y_test = y.loc[train_idx], y.loc[test_idx]\n",
    "X_train, X_test = X.loc[train_idx], X.loc[test_idx]\n",
    "\n",
    "print(\"Train\")\n",
    "print(y.loc[train_idx].value_counts()/train_idx.shape[0])\n",
    "print()\n",
    "print(\"Test\")\n",
    "print(y.loc[test_idx].value_counts()/test_idx.shape[0])"
   ]
  },
  {
   "cell_type": "markdown",
   "metadata": {},
   "source": [
    "### 1.3  Baseline модели и кроссвалидация"
   ]
  },
  {
   "cell_type": "code",
   "execution_count": 109,
   "metadata": {},
   "outputs": [
    {
     "name": "stdout",
     "output_type": "stream",
     "text": [
      "              precision    recall  f1-score   support\n",
      "\n",
      "           0       0.93      1.00      0.96    771467\n",
      "           1       0.00      0.00      0.00     60186\n",
      "\n",
      "    accuracy                           0.93    831653\n",
      "   macro avg       0.46      0.50      0.48    831653\n",
      "weighted avg       0.86      0.93      0.89    831653\n",
      "\n"
     ]
    }
   ],
   "source": [
    "y_0 = np.zeros(len(y))\n",
    "print(classification_report(y, y_0))"
   ]
  },
  {
   "cell_type": "markdown",
   "metadata": {},
   "source": [
    "Из графиков и отчета выше видно, что датасет сильно разбалансирован, а наивный классификатор, предсказывающий все время значение 0, будет иметь f1 macro score 48%! Думаю, это величина отлично подойдет в качестве отправной точки.\n",
    "Далее будем двигаться по следующему плану: \n",
    "* отсортируем и предобработаем признаки простейшим образом\n",
    "* проведем балансировку тренировочного датасета\n",
    "* реализуем функцию кросс-валидации с использованием балансировки\n",
    "* оценим качество нескольких простейших моделей и выберем из них одну\n",
    "* попробуем уменьшить размерность датасета по методу главных компонент\n",
    "* проведем отбор признаков\n",
    "* настроим гиперпараметры модели\n",
    "* создадим финальную модель, построим предсказания и сохраним ее"
   ]
  },
  {
   "cell_type": "markdown",
   "metadata": {},
   "source": [
    "**Roc и PR кривые**"
   ]
  },
  {
   "cell_type": "code",
   "execution_count": 13,
   "metadata": {},
   "outputs": [],
   "source": [
    "def plot_roc_curve(fpr, tpr, model_name=\"\", color=None):\n",
    "    plt.plot(fpr, tpr, label='%s: ROC curve (area = %0.2f)' %\n",
    "             (model_name, auc(fpr, tpr)), color=color)\n",
    "    plt.plot([0, 1], [0, 1], 'k--')\n",
    "    plt.axis([0.0, 1.0, 0.0, 1.05])\n",
    "    plt.xlabel('False Positive Rate')\n",
    "    plt.ylabel('True Positive Rate')\n",
    "    plt.title('%s: Receiver operating characteristic curve' % model_name)\n",
    "    plt.legend(loc=\"lower right\")"
   ]
  },
  {
   "cell_type": "code",
   "execution_count": 64,
   "metadata": {},
   "outputs": [],
   "source": [
    "def plot_precision_recall_curve(recall, precision, model_name=\"\", color=None):\n",
    "    plt.plot(recall, precision, label='%s: Precision-Recall curve (area = %0.2f)' %\n",
    "             (model_name, auc(recall, precision)), color=color)\n",
    "    plt.xlabel('Recall')\n",
    "    plt.ylabel('Precision')\n",
    "    plt.title(\"%s: Precision-Recall curve\" % model_name)\n",
    "    plt.axis([0.0, 1.0, 0.0, 1.05])\n",
    "    plt.legend(loc=\"lower left\")"
   ]
  },
  {
   "cell_type": "code",
   "execution_count": 68,
   "metadata": {},
   "outputs": [],
   "source": [
    "def show_proba_calibration_plots(y_predicted_probs, y_true_labels):\n",
    "    preds_with_true_labels = np.array(list(zip(y_predicted_probs, y_true_labels)))\n",
    "\n",
    "    thresholds = []\n",
    "    precisions = []\n",
    "    recalls = []\n",
    "    f1_scores = []\n",
    "\n",
    "    for threshold in np.linspace(0.1, 0.9, 9):\n",
    "        thresholds.append(threshold)\n",
    "        precisions.append(precision_score(y_true_labels, list(map(int, y_predicted_probs > threshold))))\n",
    "        recalls.append(recall_score(y_true_labels, list(map(int, y_predicted_probs > threshold))))\n",
    "        f1_scores.append(f1_score(y_true_labels, list(map(int, y_predicted_probs > threshold))))\n",
    "\n",
    "    scores_table = pd.DataFrame({'f1':f1_scores,\n",
    "                                 'precision':precisions,\n",
    "                                 'recall':recalls,\n",
    "                                 'probability':thresholds}).sort_values('f1', ascending=False).round(3)\n",
    "  \n",
    "    figure = plt.figure(figsize = (15, 5))\n",
    "\n",
    "    plt1 = figure.add_subplot(121)\n",
    "    plt1.plot(thresholds, precisions, label='Precision', linewidth=4)\n",
    "    plt1.plot(thresholds, recalls, label='Recall', linewidth=4)\n",
    "    plt1.plot(thresholds, f1_scores, label='F1', linewidth=4)\n",
    "    plt1.set_ylabel('Scores')\n",
    "    plt1.set_xlabel('Probability threshold')\n",
    "    plt1.set_title('Probabilities threshold calibration')\n",
    "    plt1.legend(bbox_to_anchor=(0.25, 0.25))   \n",
    "    plt1.table(cellText = scores_table.values,\n",
    "               colLabels = scores_table.columns, \n",
    "               colLoc = 'center', cellLoc = 'center', loc = 'bottom', bbox = [0, -1.3, 1, 1])\n",
    "\n",
    "    plt2 = figure.add_subplot(122)\n",
    "    plt2.hist(preds_with_true_labels[preds_with_true_labels[:, 1] == 0][:, 0], \n",
    "              label='Another class', color='royalblue', alpha=1)\n",
    "    plt2.hist(preds_with_true_labels[preds_with_true_labels[:, 1] == 1][:, 0], \n",
    "              label='Main class', color='darkcyan', alpha=0.8)\n",
    "    plt2.set_ylabel('Number of examples')\n",
    "    plt2.set_xlabel('Probabilities')\n",
    "    plt2.set_title('Probability histogram')\n",
    "    plt2.legend(bbox_to_anchor=(1, 1))\n",
    "\n",
    "    plt.show()"
   ]
  },
  {
   "cell_type": "markdown",
   "metadata": {},
   "source": [
    "**Матрица смежности**"
   ]
  },
  {
   "cell_type": "code",
   "execution_count": 14,
   "metadata": {},
   "outputs": [],
   "source": [
    "def plot_confusion_matrix(cm, classes,\n",
    "                          model_name=\"\",\n",
    "                          normalize=False,\n",
    "                          cmap=plt.cm.Blues):\n",
    "    \"\"\"\n",
    "    This function prints and plots the confusion matrix.\n",
    "    Normalization can be applied by setting `normalize=True`.\n",
    "    \"\"\"\n",
    "    if normalize:\n",
    "        cm = cm.astype('float') / cm.sum(axis=1)[:, np.newaxis]\n",
    "        print(\"Normalized confusion matrix\")\n",
    "    else:\n",
    "        print('Confusion matrix, without normalization')\n",
    "\n",
    "    print(cm)\n",
    "\n",
    "    plt.imshow(cm, interpolation='nearest',  cmap=cmap)\n",
    "    \n",
    "    plt.grid(False)\n",
    "    plt.title('%s: confusion matrix' % model_name)\n",
    "    tick_marks = np.arange(len(classes))\n",
    "    plt.xticks(tick_marks, classes, rotation=45)\n",
    "    plt.yticks(tick_marks, classes)\n",
    "\n",
    "    fmt = '.2f' if normalize else 'd'\n",
    "    thresh = cm.max() / 2.\n",
    "    for i, j in itertools.product(range(cm.shape[0]), range(cm.shape[1])):\n",
    "        plt.text(j, i, format(cm[i, j], fmt),\n",
    "                 horizontalalignment=\"center\",\n",
    "                 color=\"white\" if cm[i, j] > thresh else \"black\")\n",
    "\n",
    "    plt.ylabel('True label')\n",
    "    plt.xlabel('Predicted label')\n",
    "    plt.tight_layout()\n",
    "    \n",
    "# TN                FP(Type II error)\n",
    "# \n",
    "# FN(Type I error)  TP"
   ]
  },
  {
   "cell_type": "code",
   "execution_count": 15,
   "metadata": {},
   "outputs": [],
   "source": [
    "def get_classification_report(y_train_true, y_train_pred, y_test_true, y_test_pred):\n",
    "    print('TRAIN\\n\\n' + classification_report(y_train_true, y_train_pred))\n",
    "    print('TEST\\n\\n' + classification_report(y_test_true, y_test_pred))\n",
    "    print('CONFUSION MATRIX\\n')\n",
    "    print(pd.crosstab(y_test_true, y_test_pred))"
   ]
  },
  {
   "cell_type": "markdown",
   "metadata": {},
   "source": [
    "## 2. Модификация датасета"
   ]
  },
  {
   "cell_type": "markdown",
   "metadata": {},
   "source": [
    "### 2.1 Определение типа признаков"
   ]
  },
  {
   "cell_type": "code",
   "execution_count": 16,
   "metadata": {},
   "outputs": [],
   "source": [
    "def find_not_representative_cols(df, thresh):\n",
    "    \"\"\"\n",
    "    Function that finds columns with one dominant value and small variaty\n",
    "    :param df: - Dataframe object\n",
    "    :param thresh: - Threshold of values variaty from 0 to 1\n",
    "    :param drop: - Set this parameter as True if you want to return modified df without found columns \n",
    "    :return: - List of columns whos have values variaty is less than threshold\n",
    "    \"\"\"\n",
    "    not_representative_columns = set()\n",
    "    for col in df.columns.values:\n",
    "        total_rows = df.shape[0]\n",
    "        largest_value = df[col].value_counts().values[0]\n",
    "        check_div = largest_value / total_rows\n",
    "\n",
    "        if check_div > thresh:\n",
    "            not_representative_columns.add(col)\n",
    "            \n",
    "    return not_representative_columns"
   ]
  },
  {
   "cell_type": "code",
   "execution_count": 17,
   "metadata": {},
   "outputs": [],
   "source": [
    "def find_categorical_features(df, thresh, remove_bin_features=False):\n",
    "    \"\"\"\n",
    "    Find features that probably can be categorical\n",
    "    :param df: - Dataframe object\n",
    "    :param thresh: - The number of values less than which the feature will be considered categorical \n",
    "                    (any positive number)\n",
    "    :param remove_bin_features: - Boolean parameter. If True features with only 2 unique values will not be add \n",
    "                                  to the list\n",
    "    :return: - Dictionary with names of features that can be categorical as keys and their numbers of different values\n",
    "    \"\"\"\n",
    "    cols_not_to_add_to_dict = ['buy_time', 'target']\n",
    "    \n",
    "    if remove_bin_features:\n",
    "        could_be_cat = {colname\n",
    "                        for colname in df.columns \n",
    "                        if (df[colname].unique().shape[0] < thresh) &\n",
    "                        (df[colname].unique().shape[0] > 2) &\n",
    "                        (colname not in cols_not_to_add_to_dict)}\n",
    "    \n",
    "    else:\n",
    "        could_be_cat = {colname \n",
    "                        for colname in df.columns \n",
    "                        if (df[colname].unique().shape[0] < thresh) &\n",
    "                        (colname not in cols_not_to_add_to_dict)}\n",
    "    return could_be_cat"
   ]
  },
  {
   "cell_type": "code",
   "execution_count": 18,
   "metadata": {},
   "outputs": [],
   "source": [
    "X_nunique = X.nunique()"
   ]
  },
  {
   "cell_type": "code",
   "execution_count": 19,
   "metadata": {},
   "outputs": [
    {
     "data": {
      "text/plain": [
       "255"
      ]
     },
     "execution_count": 19,
     "metadata": {},
     "output_type": "execute_result"
    }
   ],
   "source": [
    "f_all = set(X_nunique.index.tolist())\n",
    "len(f_all)"
   ]
  },
  {
   "cell_type": "markdown",
   "metadata": {},
   "source": [
    "**Нерепрезентативные признаки (константные + с одним доминирующем значением (99.9%) + не несущие полезной информации)**"
   ]
  },
  {
   "cell_type": "code",
   "execution_count": 20,
   "metadata": {},
   "outputs": [
    {
     "data": {
      "text/plain": [
       "35"
      ]
     },
     "execution_count": 20,
     "metadata": {},
     "output_type": "execute_result"
    }
   ],
   "source": [
    "f_notrepr = find_not_representative_cols(X, 0.999)\n",
    "f_notrepr.add('buy_time')\n",
    "f_notrepr.add('id')\n",
    "len(f_notrepr)"
   ]
  },
  {
   "cell_type": "markdown",
   "metadata": {},
   "source": [
    "**buy_time** отмечен как нерепрезентативный, так как представленный период не позволяет определить какую-либо зависимость принятия или отклонения предложения от времени (сезонность), а в тесте будет представлен совершенно новый период для модели.<br>\n",
    "Поясню, что предоставленные периоды имеют недельный интервал, данных за аналогичный период из тестового датасета нет, а разбиение по неделям не позволяет определить какую-либо сезонность внутри месяца"
   ]
  },
  {
   "cell_type": "code",
   "execution_count": 21,
   "metadata": {},
   "outputs": [
    {
     "data": {
      "image/png": "[encoded data removed]",
      "text/plain": [
       "<Figure size 864x432 with 1 Axes>"
      ]
     },
     "metadata": {
      "needs_background": "light"
     },
     "output_type": "display_data"
    }
   ],
   "source": [
    "plt.rcParams['figure.figsize'] = (12, 6)\n",
    "result = X.groupby([\"buy_time\"]).agg({'id' :'count'}).reset_index().sort_values('buy_time')\n",
    "chart = sns.countplot(x='buy_time', hue=y, data=X, order=result['buy_time'])\n",
    "chart = chart.set_xticklabels(chart.get_xticklabels(), rotation=45)"
   ]
  },
  {
   "cell_type": "markdown",
   "metadata": {},
   "source": [
    "**Бинарные признаки**"
   ]
  },
  {
   "cell_type": "code",
   "execution_count": 22,
   "metadata": {},
   "outputs": [
    {
     "data": {
      "text/plain": [
       "16"
      ]
     },
     "execution_count": 22,
     "metadata": {},
     "output_type": "execute_result"
    }
   ],
   "source": [
    "f_bin = find_categorical_features(X, 3)\n",
    "f_bin = f_bin - f_notrepr\n",
    "len(f_bin)"
   ]
  },
  {
   "cell_type": "markdown",
   "metadata": {},
   "source": [
    "**Категориальные признаки**"
   ]
  },
  {
   "cell_type": "code",
   "execution_count": 23,
   "metadata": {},
   "outputs": [
    {
     "data": {
      "text/plain": [
       "7"
      ]
     },
     "execution_count": 23,
     "metadata": {},
     "output_type": "execute_result"
    }
   ],
   "source": [
    "f_categorical = find_categorical_features(X, 16, remove_bin_features=True)\n",
    "f_categorical = f_categorical - f_notrepr\n",
    "len(f_categorical)"
   ]
  },
  {
   "cell_type": "markdown",
   "metadata": {},
   "source": [
    "**Числовые признаки**"
   ]
  },
  {
   "cell_type": "code",
   "execution_count": 24,
   "metadata": {},
   "outputs": [
    {
     "data": {
      "text/plain": [
       "197"
      ]
     },
     "execution_count": 24,
     "metadata": {},
     "output_type": "execute_result"
    }
   ],
   "source": [
    "f_numeric = f_all - (f_notrepr | f_bin | f_categorical)\n",
    "len(f_numeric)"
   ]
  },
  {
   "cell_type": "code",
   "execution_count": 25,
   "metadata": {},
   "outputs": [],
   "source": [
    "assert(X_nunique.shape[0] == len(f_bin) + len(f_numeric) + len(f_categorical) + len(f_notrepr))"
   ]
  },
  {
   "cell_type": "code",
   "execution_count": 26,
   "metadata": {},
   "outputs": [
    {
     "name": "stdout",
     "output_type": "stream",
     "text": [
      "f_all: 255\n",
      "\n",
      "f_notrepr: 35\n",
      "f_bin: 16\n",
      "f_categorical: 7\n",
      "f_numeric: 197\n"
     ]
    }
   ],
   "source": [
    "print('f_all:', len(f_all))\n",
    "print()\n",
    "print('f_notrepr:', len(f_notrepr))\n",
    "print('f_bin:', len(f_bin))\n",
    "print('f_categorical:', len(f_categorical))\n",
    "print('f_numeric:', len(f_numeric))\n",
    "\n",
    "f_ok = list(f_bin | f_categorical | f_numeric)\n",
    "f_bin, f_categorical, f_numeric = list(f_bin), list(f_categorical), list(f_numeric)"
   ]
  },
  {
   "cell_type": "markdown",
   "metadata": {},
   "source": [
    "## 3. Pipeline"
   ]
  },
  {
   "cell_type": "markdown",
   "metadata": {},
   "source": [
    "### 3.1 ColumnSelector"
   ]
  },
  {
   "cell_type": "code",
   "execution_count": 27,
   "metadata": {},
   "outputs": [],
   "source": [
    "class ColumnSelector(BaseEstimator, TransformerMixin):\n",
    "    def __init__(self, columns):\n",
    "        self.columns = columns\n",
    "\n",
    "    def fit(self, X, y=None):\n",
    "        return self\n",
    "    \n",
    "    def transform(self, X):\n",
    "        assert isinstance(X, pd.DataFrame)\n",
    "\n",
    "        try:\n",
    "            return X[self.columns]\n",
    "        except KeyError:\n",
    "            cols_error = list(set(self.columns) - set(X.columns))\n",
    "            raise KeyError(\"DataFrame не содердит следующие колонки: %s\" % cols_error)"
   ]
  },
  {
   "cell_type": "markdown",
   "metadata": {},
   "source": [
    "### 3.2 Pipeline обработки признаков"
   ]
  },
  {
   "cell_type": "code",
   "execution_count": 102,
   "metadata": {},
   "outputs": [],
   "source": [
    "f_prep_pipeline = make_pipeline(\n",
    "    ColumnSelector(columns=f_ok),\n",
    "    FeatureUnion(transformer_list=[\n",
    "        (\"numeric_features\", make_pipeline(\n",
    "            ColumnSelector(f_numeric),\n",
    "            StandardScaler()\n",
    "        )),\n",
    "        (\"categorical_features\", make_pipeline(\n",
    "            ColumnSelector(f_categorical),\n",
    "            OneHotEncoder(handle_unknown='ignore')\n",
    "        )),\n",
    "        (\"boolean_features\", make_pipeline(\n",
    "            ColumnSelector(f_bin),\n",
    "            OneHotEncoder(handle_unknown='ignore')\n",
    "        ))\n",
    "    ])\n",
    ")"
   ]
  },
  {
   "cell_type": "code",
   "execution_count": 103,
   "metadata": {},
   "outputs": [
    {
     "data": {
      "text/plain": [
       "292"
      ]
     },
     "execution_count": 103,
     "metadata": {},
     "output_type": "execute_result"
    }
   ],
   "source": [
    "f_prep_pipeline.fit(X_train)\n",
    "\n",
    "n_features = f_prep_pipeline.transform(X_test).shape[1]\n",
    "n_features"
   ]
  },
  {
   "cell_type": "markdown",
   "metadata": {},
   "source": [
    "### 3.3 Кросс-валидация для сбалансированного датасета "
   ]
  },
  {
   "cell_type": "markdown",
   "metadata": {},
   "source": [
    "При кросс-валидации на сбалансированном датасете возникает проблема, когда на каждом шаге кросс-валидации обучение и валидация модели происходит на сбалансированных данных, что позже сказывается при тестировании модели на реальных (несбалансированных) данных. Таким образом **необходимо применять балансировку на каждом шаге кросс-валидации исключительно к тренировочному набору данных**, не затрагивая валидационный. Это позволит корректнее оценить качество моделей на реальных данных."
   ]
  },
  {
   "cell_type": "code",
   "execution_count": 30,
   "metadata": {},
   "outputs": [],
   "source": [
    "def run_balance_and_cv(estimator, sampler, cv, X, y, model_name=\"\"):\n",
    "    cv = cv\n",
    "    cross_val_accuracy_list = []\n",
    "    cross_val_f1_list = []\n",
    "    cross_val_f1_macro_list = []\n",
    "    \n",
    "    for train_index, validation_index in cv.split(X, y):\n",
    "        train, validation = X.iloc[train_index], X.iloc[validation_index]\n",
    "        target_train, target_validation = y.iloc[train_index], y.iloc[validation_index]\n",
    "        sampler = sampler\n",
    "        train_balanced, target_train_balanced = sampler.fit_resample(train, target_train)\n",
    "        \n",
    "        estimator.fit(train_balanced, target_train_balanced)\n",
    "        \n",
    "        validation_preds = estimator.predict(validation)\n",
    "        \n",
    "        cross_val_accuracy_list.append(accuracy_score(target_validation, validation_preds))\n",
    "        cross_val_f1_list.append(f1_score(target_validation, validation_preds))\n",
    "        cross_val_f1_macro_list.append(f1_score(target_validation, validation_preds, average='macro'))\n",
    "        \n",
    "    msg = (f'{model_name}\\n'\n",
    "           f'accuracy: {np.mean(cross_val_accuracy_list):.2f}, f1: {np.mean(cross_val_f1_list):.2f}, ' \n",
    "           f'f1_macro: {np.mean(cross_val_f1_macro_list):.2f}\\n')\n",
    "    print(msg)"
   ]
  },
  {
   "cell_type": "markdown",
   "metadata": {},
   "source": [
    "## 4. Выбор модели для дальнейшней настройки"
   ]
  },
  {
   "cell_type": "markdown",
   "metadata": {},
   "source": [
    "### 4.1 Выбор классификатора"
   ]
  },
  {
   "cell_type": "markdown",
   "metadata": {},
   "source": [
    "Так как тестовый датасет имеет достаточно большой объем данных можно на начальном этапе воспользоваться балансировкой методами андерсемплинга, то есть выбора наблюдений из доминирующего класса равных по количеству наблюдениям из меньшего класса. Самый простой метод - случайный выбор наблюдений. <br>\n",
    "После выбора модели попробуем различные более сложные техники балансировки, которые способны поднять точность модели <br>\n",
    "<br>\n",
    "(Дополнительно можно было протестировать KNN и метод опорных векторов, но эти методы сильно ресурсозатратные, поэтому не включены в исследование)\n"
   ]
  },
  {
   "cell_type": "code",
   "execution_count": 31,
   "metadata": {},
   "outputs": [],
   "source": [
    "strkfold_cv = StratifiedKFold(n_splits=4, random_state=RANDOM_STATE, shuffle=True)\n",
    "rus = RandomUnderSampler(random_state=RANDOM_STATE)"
   ]
  },
  {
   "cell_type": "code",
   "execution_count": 126,
   "metadata": {},
   "outputs": [
    {
     "name": "stdout",
     "output_type": "stream",
     "text": [
      "LR\n",
      "accuracy: 0.86, f1: 0.45, f1_macro: 0.69\n",
      "\n",
      "CART\n",
      "accuracy: 0.70, f1: 0.26, f1_macro: 0.54\n",
      "\n",
      "RFC\n",
      "accuracy: 0.86, f1: 0.45, f1_macro: 0.68\n",
      "\n",
      "XGB\n",
      "accuracy: 0.86, f1: 0.45, f1_macro: 0.69\n",
      "\n",
      "LGBM\n",
      "accuracy: 0.86, f1: 0.45, f1_macro: 0.69\n",
      "\n"
     ]
    }
   ],
   "source": [
    "# prepare models\n",
    "models = []\n",
    "models.append(('LR', LogisticRegression(n_jobs=4, random_state=RANDOM_STATE)))\n",
    "models.append(('CART', DecisionTreeClassifier(random_state=RANDOM_STATE)))\n",
    "models.append(('RFC', RandomForestClassifier(n_jobs=4, random_state=RANDOM_STATE)))\n",
    "models.append(('XGB', XGBClassifier(n_jobs=4, random_state=RANDOM_STATE)))\n",
    "models.append(('LGBM', LGBMClassifier(n_jobs=4, random_state=RANDOM_STATE)))\n",
    "\n",
    "# evaluate each model in turn\n",
    "for name, model in models:\n",
    "    pipeline = make_pipeline(f_prep_pipeline, model)\n",
    "    run_balance_and_cv(pipeline, rus, strkfold_cv, X_train, y_train, model_name=name)"
   ]
  },
  {
   "cell_type": "markdown",
   "metadata": {},
   "source": [
    "Видно, что линейная регрессия и оба бустинговых алгоритма дают одинаковый результат. В качестве модели для дальнейшего улучшения выберем XGBoost, так как исходя из личных предпочтений и природы исходных данных (смешанные, преимущественно числовые данные размерзности до 10^7), этот алгоритм, на мой взгляд, подходит лучше всего. Не отрицаю, что выбор может быть так же сделан в пользу более скоростного LGBM"
   ]
  },
  {
   "cell_type": "markdown",
   "metadata": {},
   "source": [
    "### 4.2 Тестирование различных методов балансировки"
   ]
  },
  {
   "cell_type": "code",
   "execution_count": 32,
   "metadata": {},
   "outputs": [],
   "source": [
    "from imblearn.under_sampling import NearMiss\n",
    "from imblearn.under_sampling import TomekLinks\n",
    "from imblearn.over_sampling import RandomOverSampler"
   ]
  },
  {
   "cell_type": "code",
   "execution_count": 137,
   "metadata": {
    "scrolled": true
   },
   "outputs": [
    {
     "name": "stdout",
     "output_type": "stream",
     "text": [
      "NM1\n",
      "accuracy: 0.64, f1: 0.09, f1_macro: 0.40\n",
      "\n",
      "TL\n",
      "accuracy: 0.93, f1: 0.01, f1_macro: 0.49\n",
      "\n",
      "ROS\n",
      "accuracy: 0.86, f1: 0.45, f1_macro: 0.69\n",
      "\n",
      "SMOTE\n",
      "accuracy: 0.83, f1: 0.41, f1_macro: 0.65\n",
      "\n",
      "SMOTEENN\n",
      "accuracy: 0.86, f1: 0.39, f1_macro: 0.66\n",
      "\n",
      "SMOTETomek\n",
      "accuracy: 0.87, f1: 0.37, f1_macro: 0.65\n",
      "\n"
     ]
    }
   ],
   "source": [
    "list_of_resamplers = []\n",
    "\n",
    "list_of_resamplers.append((\"NM1\", NearMiss(version=1, n_jobs=4)))\n",
    "list_of_resamplers.append((\"TL\", TomekLinks(n_jobs=4)))\n",
    "list_of_resamplers.append((\"ROS\", RandomOverSampler(random_state=RANDOM_STATE)))\n",
    "list_of_resamplers.append(('SMOTE', SMOTE(n_jobs=4, random_state=RANDOM_STATE)))\n",
    "list_of_resamplers.append(('SMOTEENN', SMOTEENN(n_jobs=4, random_state=RANDOM_STATE)))\n",
    "list_of_resamplers.append(('SMOTETomek', SMOTETomek(n_jobs=4, random_state=RANDOM_STATE)))\n",
    "\n",
    "strkfold_2 = StratifiedKFold(n_splits=2, random_state=RANDOM_STATE, shuffle=True)\n",
    "pipeline = make_pipeline(f_prep_pipeline, XGBClassifier(n_jobs=4, random_state=RANDOM_STATE))\n",
    "\n",
    "for name, resampler in list_of_resamplers:    \n",
    "    run_balance_and_cv(pipeline, resampler, strkfold_2, X_train, y_train, model_name=name)"
   ]
  },
  {
   "cell_type": "markdown",
   "metadata": {},
   "source": [
    "Рандомные алгоритмы дают больший f1_score и затрачивают меньше времени на реализацию, будем продолжать использовать RandomUnderSampler"
   ]
  },
  {
   "cell_type": "markdown",
   "metadata": {},
   "source": [
    "### 4.3 Понижение размерности"
   ]
  },
  {
   "cell_type": "markdown",
   "metadata": {},
   "source": [
    "Перед тем как приступить к отбору признаков попробуем понизить размерность численных признаков, сохранив около 90% дисперсии и протестировать модель на них"
   ]
  },
  {
   "cell_type": "code",
   "execution_count": 33,
   "metadata": {},
   "outputs": [],
   "source": [
    "from sklearn.decomposition import PCA"
   ]
  },
  {
   "cell_type": "code",
   "execution_count": 34,
   "metadata": {},
   "outputs": [],
   "source": [
    "# Измененная функция под xgb с дополнительными параметрами\n",
    "def run_balance_and_cv_xgb(estimator, sampler, cv, X, y, model_name=\"\"):\n",
    "    cv = cv\n",
    "    cross_val_accuracy_list = []\n",
    "    cross_val_f1_list = []\n",
    "    cross_val_f1_macro_list = []\n",
    "    \n",
    "    for train_index, validation_index in cv.split(X, y):\n",
    "        train, validation = X.iloc[train_index], X.iloc[validation_index]\n",
    "        target_train, target_validation = y.iloc[train_index], y.iloc[validation_index]\n",
    "        sampler = sampler\n",
    "        train_balanced, target_train_balanced = sampler.fit_resample(train, target_train)\n",
    "        \n",
    "        estimator.set_params(clf__eval_set=[validation, target_validation], \n",
    "                             clf__early_stopping_rounds=10).fit(train_balanced, target_train_balanced)\n",
    "        \n",
    "        validation_preds = estimator.predict(validation)\n",
    "        \n",
    "        cross_val_accuracy_list.append(accuracy_score(target_validation, validation_preds))\n",
    "        cross_val_f1_list.append(f1_score(target_validation, validation_preds))\n",
    "        cross_val_f1_macro_list.append(f1_score(target_validation, validation_preds, average='macro'))\n",
    "        \n",
    "    msg = (f'{model_name}\\n'\n",
    "           f'accuracy: {np.mean(cross_val_accuracy_list):.2f}, f1: {np.mean(cross_val_f1_list):.2f}, ' \n",
    "           f'f1_macro: {np.mean(cross_val_f1_macro_list):.2f}\\n')\n",
    "    print(msg)"
   ]
  },
  {
   "cell_type": "code",
   "execution_count": 35,
   "metadata": {},
   "outputs": [],
   "source": [
    "f_prep_pca_pipe = make_pipeline(\n",
    "    ColumnSelector(columns=f_ok),\n",
    "    FeatureUnion(transformer_list=[\n",
    "        (\"numeric_features\", make_pipeline(\n",
    "            ColumnSelector(f_numeric),\n",
    "            StandardScaler(),\n",
    "            PCA(n_components=100)\n",
    "        )),\n",
    "        (\"categorical_features\", make_pipeline(\n",
    "            ColumnSelector(f_categorical),\n",
    "            OneHotEncoder(handle_unknown='ignore')\n",
    "        )),\n",
    "        (\"boolean_features\", make_pipeline(\n",
    "            ColumnSelector(f_bin),\n",
    "            OneHotEncoder(drop='first', handle_unknown='error')\n",
    "        ))\n",
    "    ])\n",
    ")"
   ]
  },
  {
   "cell_type": "code",
   "execution_count": 36,
   "metadata": {},
   "outputs": [],
   "source": [
    "xgb_pca_pipeline = Pipeline([\n",
    "    ('prep', f_prep_pca_pipe),\n",
    "    ('clf', XGBClassifier(n_jobs=4, random_state=RANDOM_STATE))\n",
    "])"
   ]
  },
  {
   "cell_type": "code",
   "execution_count": 35,
   "metadata": {},
   "outputs": [
    {
     "data": {
      "text/plain": [
       "[<matplotlib.lines.Line2D at 0x12449fca0>]"
      ]
     },
     "execution_count": 35,
     "metadata": {},
     "output_type": "execute_result"
    },
    {
     "data": {
      "image/png": "[encoded data removed]",
      "text/plain": [
       "<Figure size 864x432 with 1 Axes>"
      ]
     },
     "metadata": {
      "needs_background": "light"
     },
     "output_type": "display_data"
    }
   ],
   "source": [
    "X_for_pca = X_train[f_numeric]\n",
    "scaler = StandardScaler()\n",
    "X_for_pca = scaler.fit_transform(X_for_pca)\n",
    "pca = PCA(n_components=X_for_pca.shape[1])\n",
    "pca.fit(X_for_pca)\n",
    "plt.plot(np.cumsum((pca.explained_variance_ratio_)))"
   ]
  },
  {
   "cell_type": "code",
   "execution_count": 36,
   "metadata": {},
   "outputs": [
    {
     "data": {
      "text/plain": [
       "0.914042316031274"
      ]
     },
     "execution_count": 36,
     "metadata": {},
     "output_type": "execute_result"
    }
   ],
   "source": [
    "np.cumsum((pca.explained_variance_ratio_))[100]"
   ]
  },
  {
   "cell_type": "code",
   "execution_count": 40,
   "metadata": {},
   "outputs": [
    {
     "name": "stdout",
     "output_type": "stream",
     "text": [
      "xgb_pca\n",
      "accuracy: 0.86, f1: 0.45, f1_macro: 0.69\n",
      "\n"
     ]
    }
   ],
   "source": [
    "run_balance_and_cv_xgb(xgb_pca_pipeline, rus, strkfold_cv, X_train, y_train, model_name='xgb_pca')"
   ]
  },
  {
   "cell_type": "markdown",
   "metadata": {},
   "source": [
    "Видно, что PCA не дал результатов "
   ]
  },
  {
   "cell_type": "markdown",
   "metadata": {},
   "source": [
    "## 5. Настройка гиперпараметров"
   ]
  },
  {
   "cell_type": "markdown",
   "metadata": {},
   "source": [
    "Для настройки гиперпараметров воспользуемся библиотекой hyperopt, которая имеет в распоряжение алгоритм, позволяющий перебирать параметры, минимизирующие заданную функцию ошибки. По тестам он, как правило, ближе к оптимуму, чем обычный GridSearch.<br>\n",
    "Для корректного перебора построим класс, в который при инициализации будем передавать информацию, необходимую для кросс-валидации. Минимизируемая функция в целом похожа на ранее представленную функцию кросс валидации, чуть модифицированную под xgb и перебор параметров.<br>\n",
    "Также добавим в пайплайн селектор признаков, параметры которого также добавим в сетку для поиска оптимальных значений."
   ]
  },
  {
   "cell_type": "code",
   "execution_count": 36,
   "metadata": {},
   "outputs": [],
   "source": [
    "from hyperopt import hp\n",
    "from hyperopt import fmin, tpe, STATUS_OK, STATUS_FAIL, Trials\n",
    "from hyperopt.pyll import scope as ho_scope"
   ]
  },
  {
   "cell_type": "code",
   "execution_count": 37,
   "metadata": {},
   "outputs": [],
   "source": [
    "class HPOpt(object):\n",
    "\n",
    "    def __init__(self, estimator, sampler, cv, X, y):\n",
    "        self.estimator = estimator\n",
    "        self.sampler = sampler\n",
    "        self.X = X\n",
    "        self.y = y\n",
    "        self.cv = cv\n",
    "        \n",
    "    def process(self, space, trials, algo, max_evals):\n",
    "        try:\n",
    "            result = fmin(fn=self.pipeline, space=space, algo=algo, max_evals=max_evals, trials=trials)\n",
    "        except Exception as e:\n",
    "            err_dict = {'status': STATUS_FAIL, 'exception': str(e)}\n",
    "            return err_dict\n",
    "        return result, trials\n",
    "\n",
    "    def pipeline(self, para):\n",
    "        pipeline = self.estimator.set_params(**para['clf_params'])\n",
    "        return self.cv_to_minimize(pipeline, para)       \n",
    "    \n",
    "    def cv_to_minimize(self, pipeline, para):\n",
    "        cross_val_loss_list = []\n",
    "        \n",
    "        for train_index, validation_index in self.cv.split(self.X, self.y):\n",
    "            train, validation = self.X.iloc[train_index], self.X.iloc[validation_index]\n",
    "            target_train, target_validation = self.y.iloc[train_index], self.y.iloc[validation_index]\n",
    "\n",
    "            train_balanced, target_train_balanced = self.sampler.fit_resample(train, target_train)\n",
    "\n",
    "            pipeline.set_params(clf__eval_set=[validation, target_validation], \n",
    "                                 **para['fit_params']).fit(train_balanced, target_train_balanced)\n",
    "\n",
    "            validation_preds = pipeline.predict(validation)\n",
    "\n",
    "            cross_val_loss_list.append(para['loss_func'](target_validation, validation_preds))\n",
    "\n",
    "        loss =  np.mean(cross_val_loss_list)\n",
    "        print(f'loss evolution: {loss}')\n",
    "        return {'loss': loss, 'status': STATUS_OK}"
   ]
  },
  {
   "cell_type": "code",
   "execution_count": 104,
   "metadata": {},
   "outputs": [],
   "source": [
    "xgb_fs_pipe = Pipeline([\n",
    "    ('prep', f_prep_pipeline),\n",
    "    ('f_selector', SelectFromModel(XGBClassifier(n_jobs=4, random_state=RANDOM_STATE), threshold=1e-5)),\n",
    "    ('clf', XGBClassifier(n_jobs=4, random_state=RANDOM_STATE))\n",
    "])"
   ]
  },
  {
   "cell_type": "code",
   "execution_count": 39,
   "metadata": {},
   "outputs": [],
   "source": [
    "pipeline_steps_params = {\n",
    "    'clf__learning_rate':    hp.uniform('clf__learning_rate', low=0.05, high=0.4),\n",
    "    'clf__max_depth':        ho_scope.int(hp.quniform('clf__max_depth', low=4, high=15, q=1)),\n",
    "    'clf__min_child_weight': ho_scope.int(hp.quniform('clf__min_child_weight', low=1, high=10, q=1)),\n",
    "    'clf__colsample_bytree': hp.uniform('clf__colsample_bytree', low=0.3, high=0.8),\n",
    "    'clf__subsample':        hp.uniform('clf__subsample', low=0, high=1),\n",
    "    'clf__n_estimators':     ho_scope.int(hp.quniform('clf__n_estimators', low=100, high=1500, q=50)),\n",
    "    'clf__lambda':     hp.uniform('clf__lambda', low=0, high=3),\n",
    "    'f_selector__max_features': ho_scope.int(hp.quniform('f_selector__max_features', low=20, high=200, q=2))\n",
    "}\n",
    "pipeline_fit_params = {\n",
    "    'clf__eval_metric': 'auc',\n",
    "    'clf__early_stopping_rounds': 10,\n",
    "    'clf__verbose': False\n",
    "}\n",
    "pipe_params = dict()\n",
    "pipe_params['clf_params'] = pipeline_steps_params\n",
    "pipe_params['fit_params'] = pipeline_fit_params\n",
    "pipe_params['loss_func'] = lambda y, pred: -f1_score(y, pred, average='macro')"
   ]
  },
  {
   "cell_type": "code",
   "execution_count": 40,
   "metadata": {},
   "outputs": [],
   "source": [
    "strkfold_2 = StratifiedKFold(n_splits=2, random_state=RANDOM_STATE, shuffle=True)"
   ]
  },
  {
   "cell_type": "code",
   "execution_count": 41,
   "metadata": {
    "scrolled": true
   },
   "outputs": [
    {
     "name": "stdout",
     "output_type": "stream",
     "text": [
      "loss evolution: -0.6730284799548125                  \n",
      "loss evolution: -0.6559995525935733                                               \n",
      "loss evolution: -0.6482694930124048                                               \n",
      "loss evolution: -0.6517165996323184                                               \n",
      "loss evolution: -0.6852484233836185                                               \n",
      "loss evolution: -0.5288792096953614                                               \n",
      "loss evolution: -0.5579251913358243                                               \n",
      "loss evolution: -0.6448131888507603                                               \n",
      "loss evolution: -0.5899575980363445                                               \n",
      "loss evolution: -0.62740604195518                                                 \n",
      "loss evolution: -0.6594265969810407                                                \n",
      "loss evolution: -0.6708281501299926                                                \n",
      "loss evolution: -0.6733197698544418                                                \n",
      "loss evolution: -0.6575741374447366                                                \n",
      "loss evolution: -0.6869934722736198                                                \n",
      "loss evolution: -0.6563745991857901                                                \n",
      "loss evolution: -0.6596396722167479                                                \n",
      "loss evolution: -0.6063750459294406                                                \n",
      "loss evolution: -0.6799497414081586                                                \n",
      "loss evolution: -0.6632159355687705                                                \n",
      "loss evolution: -0.6878353125602473                                                \n",
      "loss evolution: -0.6533719677682941                                                \n",
      "loss evolution: -0.6878372381264235                                                \n",
      "loss evolution: -0.6878479649434581                                               \n",
      "loss evolution: -0.6870705266738983                                               \n",
      "loss evolution: -0.6609987316797847                                               \n",
      "loss evolution: -0.6637445064132683                                                \n",
      "loss evolution: -0.6794729270140811                                                \n",
      "loss evolution: -0.687728912627771                                                \n",
      "loss evolution: -0.668605237241106                                                \n",
      "loss evolution: -0.674630762037531                                                \n",
      "loss evolution: -0.5706202465197658                                                  \n",
      "loss evolution: -0.6873063793254677                                                  \n",
      "loss evolution: -0.6569661142940446                                                  \n",
      "loss evolution: -0.6778472861668586                                                  \n",
      "loss evolution: -0.6875503800723378                                                 \n",
      "loss evolution: -0.6630786749312827                                                 \n",
      "loss evolution: -0.6735720602732638                                                 \n",
      "loss evolution: -0.6645875396590049                                                 \n",
      "loss evolution: -0.6676901035126754                                                  \n",
      "loss evolution: -0.5764268676275366                                                  \n",
      "loss evolution: -0.6773854590261427                                                  \n",
      "loss evolution: -0.6443554232263445                                                  \n",
      "loss evolution: -0.6859914641825555                                                  \n",
      "loss evolution: -0.6859567984200142                                                  \n",
      "loss evolution: -0.6649714144314498                                                  \n",
      "loss evolution: -0.6832125471240075                                                  \n",
      "loss evolution: -0.5940961331439435                                                  \n",
      "loss evolution: -0.6700564298252912                                                  \n",
      "loss evolution: -0.6212111824877773                                                  \n",
      "loss evolution: -0.6609431328309563                                                  \n",
      "loss evolution: -0.6385113483640046                                                  \n",
      "loss evolution: -0.5835994691835598                                                  \n",
      "loss evolution: -0.6099421901639597                                                  \n",
      "loss evolution: -0.6526245757926664                                                 \n",
      "loss evolution: -0.6686506420024898                                                  \n",
      "loss evolution: -0.6811137809263601                                                  \n",
      "loss evolution: -0.6818907114703119                                                  \n",
      "loss evolution: -0.686740837432497                                                   \n",
      "loss evolution: -0.68741894754586                                                    \n",
      "loss evolution: -0.6837057018385045                                                 \n",
      "loss evolution: -0.6684516223608138                                               \n",
      "loss evolution: -0.6858539888493722                                               \n",
      "loss evolution: -0.5093903553106713                                               \n",
      "loss evolution: -0.6392275494120749                                               \n",
      "loss evolution: -0.6878260523505006                                               \n",
      "loss evolution: -0.6878124519345765                                               \n",
      "loss evolution: -0.6877790383999196                                               \n",
      "loss evolution: -0.687826566086096                                                \n",
      "loss evolution: -0.6877221180009437                                               \n",
      "loss evolution: -0.687554996673097                                                \n",
      "loss evolution: -0.6871548951370123                                               \n",
      "loss evolution: -0.6871820763094587                                               \n",
      "loss evolution: -0.6858238168950255                                               \n",
      "loss evolution: -0.6870830603196837                                               \n",
      "loss evolution: -0.6868558649627201                                               \n",
      "loss evolution: -0.6864227000480888                                               \n",
      "loss evolution: -0.6876136382068577                                               \n",
      "loss evolution: -0.6863451661035285                                               \n",
      "loss evolution: -0.6870430368519088                                               \n",
      "loss evolution: -0.6547402536088984                                               \n",
      "loss evolution: -0.6782424490142831                                               \n",
      "loss evolution: -0.6830870018004147                                                \n",
      "loss evolution: -0.6580981131889866                                                \n",
      "loss evolution: -0.6720372304672435                                                \n",
      "loss evolution: -0.6770058132447716                                                \n",
      "loss evolution: -0.6851897942026208                                                \n",
      "loss evolution: -0.6878075855665182                                                \n",
      "loss evolution: -0.6622092247128923                                                \n",
      "loss evolution: -0.6713983798520777                                                \n",
      "loss evolution: -0.6712528565143682                                                \n",
      "loss evolution: -0.6125442495238622                                                \n",
      "loss evolution: -0.6711564841359972                                                \n",
      "loss evolution: -0.6638500473928721                                                \n",
      "loss evolution: -0.6669181453443762                                                \n",
      "loss evolution: -0.6797519731986627                                                \n",
      "loss evolution: -0.5887413160341205                                                \n"
     ]
    },
    {
     "name": "stdout",
     "output_type": "stream",
     "text": [
      "loss evolution: -0.5876988964109193                                                \n",
      "loss evolution: -0.687171884503175                                                 \n",
      "loss evolution: -0.6864332060340161                                               \n",
      "100%|██████████| 100/100 [2:52:15<00:00, 103.36s/it, best loss: -0.6878479649434581]\n"
     ]
    }
   ],
   "source": [
    "obj = HPOpt(xgb_fs_pipe, rus, strkfold_2, X_train, y_train)\n",
    "\n",
    "xgb_opt = obj.process(space=pipe_params, trials=Trials(), algo=tpe.suggest, max_evals=100)"
   ]
  },
  {
   "cell_type": "code",
   "execution_count": 43,
   "metadata": {},
   "outputs": [
    {
     "data": {
      "text/plain": [
       "{'clf__colsample_bytree': 0.4290657094816329,\n",
       " 'clf__lambda': 1.57013429262471,\n",
       " 'clf__learning_rate': 0.055431931044461175,\n",
       " 'clf__max_depth': 4.0,\n",
       " 'clf__min_child_weight': 9.0,\n",
       " 'clf__n_estimators': 250.0,\n",
       " 'clf__subsample': 0.6349437755851385,\n",
       " 'f_selector__max_features': 54.0}"
      ]
     },
     "execution_count": 43,
     "metadata": {},
     "output_type": "execute_result"
    }
   ],
   "source": [
    "xgb_opt[0]"
   ]
  },
  {
   "cell_type": "markdown",
   "metadata": {},
   "source": [
    "## 6. Финальная модель"
   ]
  },
  {
   "cell_type": "code",
   "execution_count": 54,
   "metadata": {},
   "outputs": [],
   "source": [
    "for key in xgb_opt[0].keys():\n",
    "    value = xgb_opt[0][key]\n",
    "    if value.is_integer():\n",
    "        xgb_opt[0][key] = int(value)"
   ]
  },
  {
   "cell_type": "code",
   "execution_count": 55,
   "metadata": {},
   "outputs": [
    {
     "data": {
      "text/plain": [
       "{'clf__colsample_bytree': 0.4290657094816329,\n",
       " 'clf__lambda': 1.57013429262471,\n",
       " 'clf__learning_rate': 0.055431931044461175,\n",
       " 'clf__max_depth': 4,\n",
       " 'clf__min_child_weight': 9,\n",
       " 'clf__n_estimators': 250,\n",
       " 'clf__subsample': 0.6349437755851385,\n",
       " 'f_selector__max_features': 54}"
      ]
     },
     "execution_count": 55,
     "metadata": {},
     "output_type": "execute_result"
    }
   ],
   "source": [
    "xgb_opt[0]"
   ]
  },
  {
   "cell_type": "code",
   "execution_count": 105,
   "metadata": {},
   "outputs": [],
   "source": [
    "final_model = xgb_fs_pipe.set_params(**xgb_opt[0])\n",
    "strkfold_10 = StratifiedKFold(n_splits=10, random_state=RANDOM_STATE, shuffle=True)"
   ]
  },
  {
   "cell_type": "code",
   "execution_count": 57,
   "metadata": {},
   "outputs": [
    {
     "name": "stdout",
     "output_type": "stream",
     "text": [
      "final_model\n",
      "accuracy: 0.86, f1: 0.45, f1_macro: 0.69\n",
      "\n"
     ]
    }
   ],
   "source": [
    "run_balance_and_cv_xgb(final_model, rus, strkfold_10, X_train, y_train, model_name='final_model')"
   ]
  },
  {
   "cell_type": "code",
   "execution_count": 106,
   "metadata": {},
   "outputs": [
    {
     "data": {
      "text/plain": [
       "Pipeline(memory=None,\n",
       "         steps=[('prep',\n",
       "                 Pipeline(memory=None,\n",
       "                          steps=[('columnselector',\n",
       "                                  ColumnSelector(columns=['52', '252', '136',\n",
       "                                                          '45', '187', '159',\n",
       "                                                          '149', '184', '191',\n",
       "                                                          '227', '18', '67',\n",
       "                                                          '14', '50', '148',\n",
       "                                                          '207', '190', '90',\n",
       "                                                          '92', '13', '224',\n",
       "                                                          '118', '3', '127',\n",
       "                                                          '162', '220', '109',\n",
       "                                                          '237', '71', '99', ...])),\n",
       "                                 ('featureunion',\n",
       "                                  FeatureUnion(n_jobs=None,\n",
       "                                               transformer_list=[('numeric_f...\n",
       "                               colsample_bytree=0.4290657094816329, gamma=0,\n",
       "                               lambda=1.57013429262471,\n",
       "                               learning_rate=0.055431931044461175,\n",
       "                               max_delta_step=0, max_depth=4,\n",
       "                               min_child_weight=9, missing=None,\n",
       "                               n_estimators=250, n_jobs=4, nthread=None,\n",
       "                               objective='binary:logistic', random_state=888,\n",
       "                               reg_alpha=0, reg_lambda=1, scale_pos_weight=1,\n",
       "                               seed=None, silent=None,\n",
       "                               subsample=0.6349437755851385, verbosity=1))],\n",
       "         verbose=False)"
      ]
     },
     "execution_count": 106,
     "metadata": {},
     "output_type": "execute_result"
    }
   ],
   "source": [
    "X_train_balanced, y_train_balanced = rus.fit_resample(X_train, y_train)\n",
    "final_model.fit(X_train_balanced, y_train_balanced)"
   ]
  },
  {
   "cell_type": "code",
   "execution_count": 107,
   "metadata": {},
   "outputs": [],
   "source": [
    "final_model_test_pred = final_model.predict_proba(X_test)[:, 1]\n",
    "final_model_train_pred = final_model.predict_proba(X_train_balanced)[:, 1]"
   ]
  },
  {
   "cell_type": "code",
   "execution_count": 108,
   "metadata": {},
   "outputs": [
    {
     "name": "stdout",
     "output_type": "stream",
     "text": [
      "TRAIN\n",
      "\n",
      "              precision    recall  f1-score   support\n",
      "\n",
      "           0       0.80      0.87      0.83     45208\n",
      "           1       0.86      0.79      0.82     45208\n",
      "\n",
      "    accuracy                           0.83     90416\n",
      "   macro avg       0.83      0.83      0.83     90416\n",
      "weighted avg       0.83      0.83      0.83     90416\n",
      "\n",
      "TEST\n",
      "\n",
      "              precision    recall  f1-score   support\n",
      "\n",
      "           0       0.98      0.87      0.92    192936\n",
      "           1       0.32      0.79      0.45     14978\n",
      "\n",
      "    accuracy                           0.86    207914\n",
      "   macro avg       0.65      0.83      0.69    207914\n",
      "weighted avg       0.93      0.86      0.89    207914\n",
      "\n",
      "CONFUSION MATRIX\n",
      "\n",
      "col_0    False  True \n",
      "target               \n",
      "0       167276  25660\n",
      "1         3100  11878\n"
     ]
    }
   ],
   "source": [
    "get_classification_report(y_train_balanced, final_model_train_pred > 0.5, y_test, final_model_test_pred > 0.5)"
   ]
  },
  {
   "cell_type": "code",
   "execution_count": 62,
   "metadata": {},
   "outputs": [],
   "source": [
    "fpr, tpr, roc_thresholds = roc_curve(y_test, final_model_test_pred)\n",
    "precision, recall, pr_thresholds = precision_recall_curve(y_test, final_model_test_pred)"
   ]
  },
  {
   "cell_type": "code",
   "execution_count": 73,
   "metadata": {},
   "outputs": [
    {
     "name": "stdout",
     "output_type": "stream",
     "text": [
      "Baseline: AUC_ROC = 0.846\n",
      "Baseline: AUC_PR = 0.343\n"
     ]
    },
    {
     "data": {
      "image/png": "[encoded data removed]",
      "text/plain": [
       "<Figure size 360x360 with 1 Axes>"
      ]
     },
     "metadata": {
      "needs_background": "light"
     },
     "output_type": "display_data"
    },
    {
     "data": {
      "image/png": "[encoded data removed]",
      "text/plain": [
       "<Figure size 360x360 with 1 Axes>"
      ]
     },
     "metadata": {
      "needs_background": "light"
     },
     "output_type": "display_data"
    },
    {
     "data": {
      "image/png": "[encoded data removed]",
      "text/plain": [
       "<Figure size 1080x360 with 2 Axes>"
      ]
     },
     "metadata": {
      "needs_background": "light"
     },
     "output_type": "display_data"
    }
   ],
   "source": [
    "plt.figure(figsize=(5, 5))\n",
    "plot_roc_curve(fpr, tpr, \"Final model\", color='r')\n",
    "print(\"Baseline: AUC_ROC = %.3f\" % auc(fpr, tpr))\n",
    "\n",
    "plt.figure(figsize=(5, 5))\n",
    "    \n",
    "plot_precision_recall_curve(recall, precision, \"Final model\", color='r')\n",
    "print(\"Baseline: AUC_PR = %.3f\" % auc(recall, precision))\n",
    "\n",
    "show_proba_calibration_plots(final_model_test_pred, y_test)"
   ]
  },
  {
   "cell_type": "markdown",
   "metadata": {},
   "source": [
    "Судя по графикам выше, модель нашла какие-то признаки, которые довольно хорошо разделяют переменные (практически полное отсутствие предсказанных вероятностей на отрезке от 0.3 до 0.7), но тем не менее на тестовой выборке она все равно пропускает довольно много представителей класса 0 как класс 1.<br>\n",
    "Что можно попробовать еще:\n",
    "* В первую очередь, необходимо повнимательнее присмотреться к признакам и, возможно, выявить какие-то полезные инсайты. Эта задача осложняется тем, что они полностью анонимизированы и дополнительно нормализованы, судя по значениям, на различные масштабы. Тем не менее думаю, что по графикам дело именно в признаках, а не настройке модели. Так как классы довольно сильно разделены и пограничных случаев не наблюдается.\n",
    "*  Думал, что балансируя классы на этапе обучения, модель подстраивается искать классы с примерно таким же равным распределением и на тесте, отсюда много ошибок второго рода. Однако, немного поигравшись со скейлером, чтобы получить различные отношения классов, не получил никакого результата. Может, это необходимо делать как-то по-другому."
   ]
  },
  {
   "cell_type": "markdown",
   "metadata": {},
   "source": [
    "## Сохранение модели (предсказания в отдельном ноутбуке)"
   ]
  },
  {
   "cell_type": "code",
   "execution_count": 85,
   "metadata": {},
   "outputs": [],
   "source": [
    "import pickle"
   ]
  },
  {
   "cell_type": "code",
   "execution_count": 109,
   "metadata": {},
   "outputs": [],
   "source": [
    "with open(filename, 'wb') as file:\n",
    "    pickle.dump(final_model, file)"
   ]
  },
  {
   "cell_type": "code",
   "execution_count": null,
   "metadata": {},
   "outputs": [],
   "source": []
  }
 ],
 "metadata": {
  "kernelspec": {
   "display_name": "Python 3",
   "language": "python",
   "name": "python3"
  },
  "language_info": {
   "codemirror_mode": {
    "name": "ipython",
    "version": 3
   },
   "file_extension": ".py",
   "mimetype": "text/x-python",
   "name": "python",
   "nbconvert_exporter": "python",
   "pygments_lexer": "ipython3",
   "version": "3.8.2"
  }
 },
 "nbformat": 4,
 "nbformat_minor": 4
}
